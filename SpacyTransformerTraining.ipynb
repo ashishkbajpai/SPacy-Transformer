{
 "cells": [
  {
   "cell_type": "code",
   "execution_count": 21,
   "metadata": {},
   "outputs": [],
   "source": [
    "import spacy\n",
    "from spacy.util import minibatch\n",
    "import random\n",
    "import torch"
   ]
  },
  {
   "cell_type": "code",
   "execution_count": 22,
   "metadata": {},
   "outputs": [],
   "source": [
    "nlp = spacy.load(\"en_trf_bertbaseuncased_lg\")"
   ]
  },
  {
   "cell_type": "code",
   "execution_count": 23,
   "metadata": {},
   "outputs": [
    {
     "name": "stdout",
     "output_type": "stream",
     "text": [
      "<spacy_transformers.pipeline.textcat.TransformersTextCategorizer object at 0x000002D520969B88>\n"
     ]
    }
   ],
   "source": [
    "textcat = nlp.create_pipe(\"trf_textcat\", config={\"exclusive_classes\": True})\n",
    "for label in (\"POSITIVE\", \"NEGATIVE\"):\n",
    "    textcat.add_label(label)\n",
    "print(textcat)\n",
    "nlp.add_pipe(textcat)\n"
   ]
  },
  {
   "cell_type": "code",
   "execution_count": 24,
   "metadata": {},
   "outputs": [
    {
     "name": "stdout",
     "output_type": "stream",
     "text": [
      "['sentencizer', 'trf_wordpiecer', 'trf_tok2vec', 'trf_textcat']\n"
     ]
    }
   ],
   "source": [
    "print(nlp.pipe_names)"
   ]
  },
  {
   "cell_type": "code",
   "execution_count": 25,
   "metadata": {},
   "outputs": [
    {
     "name": "stdout",
     "output_type": "stream",
     "text": [
      "0 {'trf_textcat': 0.23640691861510277}\n",
      "1 {'trf_textcat': 0.23697201907634735}\n",
      "2 {'trf_textcat': 0.22854111716151237}\n",
      "3 {'trf_textcat': 0.24096227809786797}\n",
      "4 {'trf_textcat': 0.24057690426707268}\n",
      "5 {'trf_textcat': 0.21461568772792816}\n",
      "6 {'trf_textcat': 0.2207419089972973}\n",
      "7 {'trf_textcat': 0.22515816241502762}\n",
      "8 {'trf_textcat': 0.23503601737320423}\n",
      "9 {'trf_textcat': 0.2363424450159073}\n"
     ]
    }
   ],
   "source": [
    "TRAIN_DATA = [\n",
    "    (\"I am happy\", {\"cats\": {\"POSITIVE\": 1.0, \"NEGATIVE\": 0.0}}),\n",
    "    (\"I may be happy\", {\"cats\": {\"POSITIVE\": 1.0, \"NEGATIVE\": 0.0}}),\n",
    "    (\"I love this car\",{\"cats\": {\"POSITIVE\": 1.0, \"NEGATIVE\": 0.0}}),\n",
    "    (\"This view is amazing\",{\"cats\": {\"POSITIVE\": 1.0, \"NEGATIVE\": 0.0}}),\n",
    "    (\"I feel great this morning\",{\"cats\": {\"POSITIVE\": 1.0, \"NEGATIVE\": 0.0}}),\n",
    "    (\"I am so excited about the concert\",{\"cats\": {\"POSITIVE\": 1.0, \"NEGATIVE\": 0.0}}),\n",
    "    (\"He is my best friend\",{\"cats\": {\"POSITIVE\": 1.0, \"NEGATIVE\": 0.0}}),\n",
    "    (\"I do not like this car\",{\"cats\": {\"POSITIVE\": 0.0, \"NEGATIVE\": 1.0}}),\n",
    "    (\"This view is horrible\",{\"cats\": {\"POSITIVE\": 0.0, \"NEGATIVE\": 1.0}}),\n",
    "    (\"I feel tired this morning\",{\"cats\": {\"POSITIVE\": 0.0, \"NEGATIVE\": 1.0}}),\n",
    "    (\"I am not looking forward to the concert\",{\"cats\": {\"POSITIVE\": 0.0, \"NEGATIVE\": 1.0}}),\n",
    "    (\"He is my enemy\",{\"cats\": {\"POSITIVE\": 0.0, \"NEGATIVE\": 1.0}}),\n",
    "        ]\n",
    "optimizer = nlp.resume_training()\n",
    "for i in range(10):\n",
    "    random.shuffle(TRAIN_DATA)\n",
    "    losses = {}\n",
    "    for batch in minibatch(TRAIN_DATA, size=3):\n",
    "        texts, cats = zip(*batch)\n",
    "        nlp.update(texts, cats, sgd=optimizer, losses=losses)\n",
    "    print(i, losses)"
   ]
  },
  {
   "cell_type": "code",
   "execution_count": 36,
   "metadata": {},
   "outputs": [],
   "source": [
    "doc = nlp(\"I feel happy this morning\")"
   ]
  },
  {
   "cell_type": "code",
   "execution_count": 37,
   "metadata": {},
   "outputs": [
    {
     "name": "stdout",
     "output_type": "stream",
     "text": [
      "{'POSITIVE': 0.6682393550872803, 'NEGATIVE': 0.33176058530807495}\n"
     ]
    }
   ],
   "source": [
    "print(doc.cats)"
   ]
  },
  {
   "cell_type": "code",
   "execution_count": null,
   "metadata": {},
   "outputs": [],
   "source": []
  },
  {
   "cell_type": "code",
   "execution_count": null,
   "metadata": {},
   "outputs": [],
   "source": []
  }
 ],
 "metadata": {
  "kernelspec": {
   "display_name": "Python 3",
   "language": "python",
   "name": "python3"
  },
  "language_info": {
   "codemirror_mode": {
    "name": "ipython",
    "version": 3
   },
   "file_extension": ".py",
   "mimetype": "text/x-python",
   "name": "python",
   "nbconvert_exporter": "python",
   "pygments_lexer": "ipython3",
   "version": "3.7.4"
  }
 },
 "nbformat": 4,
 "nbformat_minor": 2
}
